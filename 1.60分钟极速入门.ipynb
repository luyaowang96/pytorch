{
 "cells": [
  {
   "cell_type": "code",
   "execution_count": 23,
   "metadata": {
    "collapsed": false
   },
   "outputs": [],
   "source": [
    "import torch"
   ]
  },
  {
   "cell_type": "code",
   "execution_count": 24,
   "metadata": {
    "collapsed": false
   },
   "outputs": [
    {
     "name": "stdout",
     "output_type": "stream",
     "text": [
      "tensor([[6.3372e-39, 0.0000e+00, 4.4465e-36],\n",
      "        [0.0000e+00, 1.2809e-38, 0.0000e+00],\n",
      "        [2.8324e-21, 0.0000e+00, 2.8324e-21],\n",
      "        [0.0000e+00, 1.7975e-39, 0.0000e+00],\n",
      "        [6.4035e-39, 0.0000e+00, 6.4035e-39]])\n",
      "tensor([[0.0424, 0.2290, 0.0360],\n",
      "        [0.5054, 0.3997, 0.9274],\n",
      "        [0.4399, 0.1947, 0.3678],\n",
      "        [0.3824, 0.7032, 0.2789],\n",
      "        [0.2868, 0.4046, 0.5321]])\n",
      "tensor([[0, 0, 0],\n",
      "        [0, 0, 0],\n",
      "        [0, 0, 0],\n",
      "        [0, 0, 0],\n",
      "        [0, 0, 0]])\n"
     ]
    }
   ],
   "source": [
    "x = torch.empty(5,3)  # 创建一个没有初始化的5*3矩阵\n",
    "print(x) \n",
    "\n",
    "x = torch.rand(5,3) # 创建一个随机初始化的矩阵\n",
    "print(x)\n",
    "\n",
    "x = torch.zeros(5,3,dtype = torch.long) # 构造一个long型的零矩阵\n",
    "print(x)"
   ]
  },
  {
   "cell_type": "code",
   "execution_count": 25,
   "metadata": {
    "collapsed": false
   },
   "outputs": [
    {
     "name": "stdout",
     "output_type": "stream",
     "text": [
      "tensor([5.5000, 3.0000])\n",
      "tensor([[1., 1., 1.],\n",
      "        [1., 1., 1.],\n",
      "        [1., 1., 1.],\n",
      "        [1., 1., 1.],\n",
      "        [1., 1., 1.]], dtype=torch.float64)\n",
      "tensor([[ 1.4316,  0.9442, -0.7333],\n",
      "        [-0.4011,  0.6446, -0.0746],\n",
      "        [ 0.0423, -0.8395, -0.0127],\n",
      "        [ 1.2147,  0.7956, -0.2860],\n",
      "        [ 0.1807, -0.5309,  0.6978]])\n"
     ]
    }
   ],
   "source": [
    "## 根据数据构造张量\n",
    "x = torch.tensor([5.5,3]) # 对照np.array([5,3])\n",
    "print(x)\n",
    "\n",
    "## 根据arange函数构建\n",
    "torch.arange(5)## arange函数构建\n",
    "\n",
    "## 根据已有的tensor建立新的tensor\n",
    "x = x.new_ones(5,3,dtype=torch.double) \n",
    "print(x)\n",
    "x = torch.randn_like(x,dtype=torch.float) # dtype属性被重载\n",
    "print(x) # 除非用户提供新的值，否则这些方法将重用输入张量的属性，例如dtype"
   ]
  },
  {
   "cell_type": "code",
   "execution_count": 26,
   "metadata": {
    "collapsed": false
   },
   "outputs": [
    {
     "name": "stdout",
     "output_type": "stream",
     "text": [
      "torch.Size([5, 3])\n",
      "torch.Size([4, 4]) torch.Size([16]) torch.Size([2, 8])\n"
     ]
    }
   ],
   "source": [
    "## 计算形状（对照numpy.shape）\n",
    "print(x.size()) # torch.size本质是tuple\n",
    "\n",
    "x = torch.randn(4,4)\n",
    "y = x.view(16) # 改变维数\n",
    "z = x.view(-1,8) # -1表示从其他维度推断当前维数\n",
    "print(x.size(), y.size(), z.size())"
   ]
  },
  {
   "cell_type": "code",
   "execution_count": 27,
   "metadata": {
    "collapsed": false
   },
   "outputs": [
    {
     "name": "stdout",
     "output_type": "stream",
     "text": [
      "tensor([[0.9433, 0.8026, 1.5778],\n",
      "        [1.1483, 0.8533, 1.8101],\n",
      "        [0.7667, 0.9052, 1.0426],\n",
      "        [0.6028, 1.0478, 0.7888],\n",
      "        [0.9605, 0.8194, 0.9968]])\n",
      "tensor([[0.9433, 0.8026, 1.5778],\n",
      "        [1.1483, 0.8533, 1.8101],\n",
      "        [0.7667, 0.9052, 1.0426],\n",
      "        [0.6028, 1.0478, 0.7888],\n",
      "        [0.9605, 0.8194, 0.9968]])\n"
     ]
    }
   ],
   "source": [
    "x = torch.rand(5,3)\n",
    "y = torch.rand(5,3)\n",
    "print(x+y)\n",
    "\n",
    "print(torch.add(x,y))"
   ]
  },
  {
   "cell_type": "code",
   "execution_count": 28,
   "metadata": {
    "collapsed": false
   },
   "outputs": [
    {
     "name": "stdout",
     "output_type": "stream",
     "text": [
      "tensor([[0.9433, 0.8026, 1.5778],\n",
      "        [1.1483, 0.8533, 1.8101],\n",
      "        [0.7667, 0.9052, 1.0426],\n",
      "        [0.6028, 1.0478, 0.7888],\n",
      "        [0.9605, 0.8194, 0.9968]])\n"
     ]
    }
   ],
   "source": [
    "y.add_(x)\n",
    "print(y)"
   ]
  },
  {
   "cell_type": "code",
   "execution_count": 29,
   "metadata": {
    "collapsed": false
   },
   "outputs": [
    {
     "name": "stdout",
     "output_type": "stream",
     "text": [
      "tensor([1., 1., 1., 1., 1.])\n",
      "[1. 1. 1. 1. 1.]\n",
      "tensor([2., 2., 2., 2., 2.])\n",
      "[2. 2. 2. 2. 2.]\n"
     ]
    }
   ],
   "source": [
    "a = torch.ones(5)\n",
    "print(a) # 输出一个tensor\n",
    "\n",
    "b = a.numpy() # 转化为numpy\n",
    "print(b) # 输出一个数组\n",
    "\n",
    "a.add_(1)\n",
    "print(a)\n",
    "print(b) # a与b均发生变化"
   ]
  },
  {
   "cell_type": "code",
   "execution_count": 30,
   "metadata": {
    "collapsed": false
   },
   "outputs": [
    {
     "name": "stdout",
     "output_type": "stream",
     "text": [
      "[2. 2. 2. 2. 2.]\n",
      "tensor([2., 2., 2., 2., 2.], dtype=torch.float64)\n"
     ]
    }
   ],
   "source": [
    "import numpy as np\n",
    "a = np.ones(5)\n",
    "b = torch.from_numpy(a)\n",
    "np.add(a, 1, out=a)\n",
    "print(a)\n",
    "print(b)"
   ]
  },
  {
   "cell_type": "code",
   "execution_count": 31,
   "metadata": {
    "collapsed": false
   },
   "outputs": [
    {
     "name": "stdout",
     "output_type": "stream",
     "text": [
      "tensor([[1., 1.],\n",
      "        [1., 1.]], requires_grad=True)\n"
     ]
    }
   ],
   "source": [
    "x = torch.ones(2,2,requires_grad=True)\n",
    "print(x)"
   ]
  },
  {
   "cell_type": "code",
   "execution_count": 32,
   "metadata": {
    "collapsed": false
   },
   "outputs": [
    {
     "name": "stdout",
     "output_type": "stream",
     "text": [
      "tensor([[3., 3.],\n",
      "        [3., 3.]], grad_fn=<AddBackward0>)\n",
      "<AddBackward0 object at 0x0000000007346518>\n"
     ]
    }
   ],
   "source": [
    "y = x+2\n",
    "print(y) # y是计算结果，所以有grad_fn属性\n",
    "print(y.grad_fn)"
   ]
  },
  {
   "cell_type": "code",
   "execution_count": 33,
   "metadata": {
    "collapsed": false
   },
   "outputs": [
    {
     "name": "stdout",
     "output_type": "stream",
     "text": [
      "tensor([[27., 27.],\n",
      "        [27., 27.]], grad_fn=<MulBackward0>) tensor(27., grad_fn=<MeanBackward1>)\n"
     ]
    }
   ],
   "source": [
    "z = y * y * 3\n",
    "out = z.mean()\n",
    "\n",
    "print(z, out)"
   ]
  },
  {
   "cell_type": "code",
   "execution_count": 34,
   "metadata": {
    "collapsed": false
   },
   "outputs": [
    {
     "name": "stdout",
     "output_type": "stream",
     "text": [
      "False\n",
      "True\n",
      "<SumBackward0 object at 0x0000000007325908>\n"
     ]
    }
   ],
   "source": [
    "a = torch.randn(2,2)\n",
    "a = ((a*3)/(a-1))\n",
    "print(a.requires_grad)\n",
    "a.requires_grad_(True)\n",
    "print(a.requires_grad)\n",
    "b = (a*a).sum()\n",
    "print(b.grad_fn)"
   ]
  },
  {
   "cell_type": "code",
   "execution_count": 37,
   "metadata": {
    "collapsed": false
   },
   "outputs": [
    {
     "name": "stdout",
     "output_type": "stream",
     "text": [
      "tensor([[4.5000, 4.5000],\n",
      "        [4.5000, 4.5000]])\n"
     ]
    }
   ],
   "source": [
    "\n",
    "x = torch.ones(2,2, requires_grad = True)\n",
    "y = x+2\n",
    "z = y*y*3\n",
    "out = z.mean()\n",
    "\n",
    "out.backward() # out是标量，等价于out.backward(torch.tensor(1.))\n",
    "print(x.grad) # 输出导数d(out)/dx "
   ]
  },
  {
   "cell_type": "code",
   "execution_count": 38,
   "metadata": {
    "collapsed": false
   },
   "outputs": [
    {
     "data": {
      "text/plain": [
       "tensor(2.8029)"
      ]
     },
     "execution_count": 38,
     "metadata": {},
     "output_type": "execute_result"
    }
   ],
   "source": [
    "x = torch.randn(3, requires_grad=True)\n",
    "\n",
    "y = x * 2\n",
    "y.data.norm()"
   ]
  },
  {
   "cell_type": "code",
   "execution_count": 41,
   "metadata": {
    "collapsed": false
   },
   "outputs": [
    {
     "name": "stdout",
     "output_type": "stream",
     "text": [
      "tensor([1.0240e+02, 1.0240e+03, 1.0240e-01])\n"
     ]
    }
   ],
   "source": [
    "x = torch.randn(3, requires_grad=True)\n",
    "\n",
    "y = x * 2\n",
    "while y.data.norm() < 1000:\n",
    "    y = y * 2\n",
    "v = torch.tensor([0.1, 1.0, 0.0001], dtype=torch.float)\n",
    "y.backward(v)\n",
    "\n",
    "print(x.grad)"
   ]
  },
  {
   "cell_type": "code",
   "execution_count": 42,
   "metadata": {
    "collapsed": false
   },
   "outputs": [
    {
     "name": "stdout",
     "output_type": "stream",
     "text": [
      "True\n",
      "True\n",
      "False\n"
     ]
    }
   ],
   "source": [
    "print(x.requires_grad)\n",
    "print((x**2).requires_grad)\n",
    "\n",
    "with torch.no_grad():\n",
    "    print((x**2).requires_grad)"
   ]
  },
  {
   "cell_type": "code",
   "execution_count": null,
   "metadata": {
    "collapsed": true
   },
   "outputs": [],
   "source": []
  }
 ],
 "metadata": {
  "anaconda-cloud": {},
  "kernelspec": {
   "display_name": "Python [conda root]",
   "language": "python",
   "name": "conda-root-py"
  },
  "language_info": {
   "codemirror_mode": {
    "name": "ipython",
    "version": 3
   },
   "file_extension": ".py",
   "mimetype": "text/x-python",
   "name": "python",
   "nbconvert_exporter": "python",
   "pygments_lexer": "ipython3",
   "version": "3.5.2"
  }
 },
 "nbformat": 4,
 "nbformat_minor": 1
}
